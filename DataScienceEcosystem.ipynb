{
 "cells": [
  {
   "cell_type": "markdown",
   "id": "dc653a86-3eea-4c3f-8fbb-efbed46df383",
   "metadata": {},
   "source": [
    "# Data Science Tools and Ecosystem"
   ]
  },
  {
   "cell_type": "markdown",
   "id": "b42adfe5-8039-40a8-91d6-b8c03e516c74",
   "metadata": {},
   "source": [
    "This notebook is a summation of Data Science Tools and Ecosystem."
   ]
  },
  {
   "cell_type": "markdown",
   "id": "e0c5ba39-c76d-4f44-9762-5a15474e1ae2",
   "metadata": {},
   "source": [
    "__Objectives:__\n",
    "-List Programming Languages\n",
    "-Explore Data Science Tools\n",
    "-Give Examples of Data Science Libraries"
   ]
  },
  {
   "attachments": {},
   "cell_type": "markdown",
   "id": "63f4b4ef-b4bb-48e0-9c52-d9e0b1ae87d7",
   "metadata": {},
   "source": [
    "Some popular programming languages used in the field of Data Science include but are not limited to :\n",
    "1. Python\n",
    "2. R\n",
    "3. SQL\n",
    "4. Scala"
   ]
  },
  {
   "cell_type": "markdown",
   "id": "0c85f0dd-00d7-4f09-a7cf-463c8b20c12c",
   "metadata": {},
   "source": [
    "Popular libraries for Data Science include:\n",
    "1. Pandas\n",
    "2. MatPlotLib\n",
    "3. Scikit-learn\n",
    "4. Numpy"
   ]
  },
  {
   "cell_type": "markdown",
   "id": "68f81524-0b79-43ef-b1af-2226e5285c84",
   "metadata": {},
   "source": [
    "|Data Science Tools|\n",
    "|------------------|\n",
    "|MySQL|\n",
    "|Spyder|\n",
    "|Apache Airflow|\n"
   ]
  },
  {
   "cell_type": "markdown",
   "id": "8557f266-eda2-4483-9aea-ddfe4d04fb50",
   "metadata": {},
   "source": [
    "### Here are some examples of evaluating arithmetic expressions in Python."
   ]
  },
  {
   "cell_type": "code",
   "execution_count": 6,
   "id": "7b2784fc-3a47-4873-8bd8-4fc965da2067",
   "metadata": {},
   "outputs": [
    {
     "data": {
      "text/plain": [
       "17"
      ]
     },
     "execution_count": 6,
     "metadata": {},
     "output_type": "execute_result"
    }
   ],
   "source": [
    "#We are multiplying then adding numbers together\n",
    "(3*4)+5"
   ]
  },
  {
   "cell_type": "code",
   "execution_count": 10,
   "id": "ecc4b8fb-b098-446f-b53c-d89fc66db853",
   "metadata": {},
   "outputs": [
    {
     "data": {
      "text/plain": [
       "3.3333333333333335"
      ]
     },
     "execution_count": 10,
     "metadata": {},
     "output_type": "execute_result"
    }
   ],
   "source": [
    "#This converts 200 minutes into hours by dividing hours by 60\n",
    "200/60"
   ]
  },
  {
   "cell_type": "markdown",
   "id": "4dcb23ba-5cbf-4a3f-9c06-a6148885dfc0",
   "metadata": {},
   "source": [
    "## Author\n",
    "Andrew J. Sampson"
   ]
  }
 ],
 "metadata": {
  "kernelspec": {
   "display_name": "anaconda-panel-2023.05-py310",
   "language": "python",
   "name": "conda-env-anaconda-panel-2023.05-py310-py"
  },
  "language_info": {
   "codemirror_mode": {
    "name": "ipython",
    "version": 3
   },
   "file_extension": ".py",
   "mimetype": "text/x-python",
   "name": "python",
   "nbconvert_exporter": "python",
   "pygments_lexer": "ipython3",
   "version": "3.11.5"
  }
 },
 "nbformat": 4,
 "nbformat_minor": 5
}
